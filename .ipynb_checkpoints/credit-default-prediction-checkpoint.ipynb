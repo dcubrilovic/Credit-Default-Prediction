{
 "cells": [
  {
   "cell_type": "markdown",
   "metadata": {},
   "source": [
    "# Predicting Credit Default"
   ]
  },
  {
   "cell_type": "markdown",
   "metadata": {},
   "source": [
    "#### Preface \n",
    "\n",
    "  In their seminal paper, Yeh and Lien (2009) demonstrated the practical applicability of feedforward     neural networks in predicting credit default. They compared the feedforward neural network to 5 other   classification algorithms (k-nearest neighbors, classification trees, logistic regression,             discriminant analysis, and naive Bayes) and found the former to be the most accurate by a               considerable margin. This project extends their analysis by evaluating the accuracy of the             feedforward neural network against Adaboost and the SVC (Support Vector Classifier), two of the most   robust and commonly used algorithms for classification. Additionally, because expediency is often       crucial in business decisions, the 3 will also be evaluated on execution time. "
   ]
  },
  {
   "cell_type": "markdown",
   "metadata": {},
   "source": [
    "### Data Acquisition and Preparation"
   ]
  },
  {
   "cell_type": "markdown",
   "metadata": {},
   "source": [
    "#### Source\n",
    "Dataset was obtained from the UCI Machine Learning Repository. Link: https://archive.ics.uci.edu/ml/datasets/default+of+credit+card+clients# \n",
    "<br/><br/>\n",
    "#### Comments \n",
    "Yeh and Lien describe the features as such:\n",
    "<br/><br/>\n",
    "_\"This research employed a binary variable, default payment (Yes = 1, No = 0), as the response variable. This study reviewed the literature and used the following 23 variables as explanatory variables: \n",
    "X1: Amount of the given credit (NT dollar): it includes both the individual consumer credit and his/her family (supplementary) credit. \n",
    "X2: Gender (1 = male; 2 = female). \n",
    "X3: Education (1 = graduate school; 2 = university; 3 = high school; 4 = others). \n",
    "X4: Marital status (1 = married; 2 = single; 3 = others). \n",
    "X5: Age (year). \n",
    "X6 - X11: History of past payment. We tracked the past monthly payment records (from April to September, 2005) as follows: X6 = the repayment status in September, 2005; X7 = the repayment status in August, 2005; . . .;X11 = the repayment status in April, 2005. The measurement scale for the repayment status is: -1 = pay duly; 1 = payment delay for one month; 2 = payment delay for two months; . . .; 8 = payment delay for eight months; 9 = payment delay for nine months and above. \n",
    "X12-X17: Amount of bill statement (NT dollar). X12 = amount of bill statement in September, 2005; X13 = amount of bill statement in August, 2005; . . .; X17 = amount of bill statement in April, 2005. \n",
    "X18-X23: Amount of previous payment (NT dollar). X18 = amount paid in September, 2005; X19 = amount paid in August, 2005; . . .;X23 = amount paid in April, 2005. \"_ "
   ]
  },
  {
   "cell_type": "code",
   "execution_count": 35,
   "metadata": {},
   "outputs": [
    {
     "name": "stdout",
     "output_type": "stream",
     "text": [
      "(239, 26)\n"
     ]
    }
   ],
   "source": [
    "import numpy as np\n",
    "import pandas as pd\n",
    "import matplotlib.pyplot as plt\n",
    "%matplotlib inline\n",
    "\n",
    "#data = pd.read_csv('data/UCI_Credit_Card.csv', index_col='ID')\n",
    "data = pd.read_csv('data/preliminary.csv', index_col='ID')\n",
    "data.rename(columns = lambda x: x.lower(), inplace=True)\n",
    "\n",
    "# Creating binary encodings for categorical variables. 0 values are \"female,\" \n",
    "# \"other education,\" \"single\"\n",
    "\n",
    "data['grad_school'] = (data['education'] == 1).astype('int')\n",
    "data['university'] = (data['education'] == 2).astype('int')\n",
    "data['high_school'] = (data['education'] == 3).astype('int')\n",
    "data.drop('education', axis=1, inplace=True)\n",
    "data['male'] = (data['sex']==1).astype('int')\n",
    "data.drop('sex', axis=1, inplace=True)\n",
    "data['married'] = (data['marriage'] == 1).astype('int')\n",
    "data.drop('marriage', axis=1, inplace=True)\n",
    "\n",
    "# Some of the pay months have negative values, which correspond to paying on\n",
    "# time. These values were changed to 0 to group all as \"non-default.\"\n",
    "\n",
    "pay_dates = ['pay_0','pay_2','pay_3','pay_4','pay_5','pay_6']\n",
    "for p in pay_dates:\n",
    "    data.loc[data[p]<=0, p] = 0\n",
    "\n",
    "data.rename(columns={'default.payment.next.month':'default'}, inplace=True) \n",
    "print(data.shape)\n",
    "k = data.shape[1]\n",
    "\n",
    "from sklearn.model_selection import train_test_split\n",
    "from sklearn.preprocessing import RobustScaler \n",
    "\n",
    "features = data.drop('default', axis=1)\n",
    "labels = data['default']\n",
    "robust = RobustScaler()\n",
    "features = robust.fit_transform(features)\n",
    "train_X, test_X, train_Y, test_Y = train_test_split(features, labels, test_size=0.1, \n",
    "                                                    random_state=123, stratify=labels)"
   ]
  },
  {
   "cell_type": "markdown",
   "metadata": {},
   "source": [
    "### Model Construction "
   ]
  },
  {
   "cell_type": "code",
   "execution_count": 36,
   "metadata": {},
   "outputs": [],
   "source": [
    "# Neural Network \n",
    "import keras\n",
    "import feedforward_ks as fks # A feedforward network model builder from a previous project\n",
    "\n",
    "# The networks tested will range from 1 (simple, quicker) to 3 (complex, more accurate)\n",
    "# Defaults of the model builder: ReLu activation function, Adam optimizer, MSE loss, final\n",
    "# output is a sigmoid function. \n",
    "net_model1 = fks.FFNetwork([k-1, 10, 1])\n",
    "net_model2 = fks.FFNetwork([k-1, 20, 10, 1])\n",
    "net_model3 = fks.FFNetwork([k-1, 40, 20, 10, 1])\n",
    "\n",
    "# Support Vector Classifier\n",
    "from sklearn.svm import SVC\n",
    "\n",
    "# The support vector classifiers will each have a different kernel function\n",
    "# Default parameters: sklearn's default parameters for C, gamma, and degree will be used\n",
    "# but are left in the code to be changed if desired\n",
    "svc_model_lin = SVC(C = 1.0, kernel='linear')\n",
    "svc_model_rbf = SVC(C = 1.0, gamma = 'auto')\n",
    "svc_model_pol = SVC(C = 1.0, kernel='poly', degree = 3, gamma = 'auto') \n",
    "\n",
    "# Adaboost \n",
    "from sklearn.ensemble import AdaBoostClassifier\n",
    "\n",
    "# The default base estimator for adaboost is a decision tree of depth 1 \n",
    "# The classifiers are ranked based on the number of estimators they use before terminating\n",
    "# 1 is the quickest, least complex, while 3 is the most complex and slowest to compute\n",
    "ada_model1 = AdaBoostClassifier(n_estimators = 50)\n",
    "ada_model2 = AdaBoostClassifier(n_estimators = 100)\n",
    "ada_model3 = AdaBoostClassifier(n_estimators = 200)"
   ]
  },
  {
   "cell_type": "markdown",
   "metadata": {},
   "source": [
    "### Evaluative Metrics"
   ]
  },
  {
   "cell_type": "code",
   "execution_count": 37,
   "metadata": {},
   "outputs": [],
   "source": [
    "import time\n",
    "from sklearn.metrics import accuracy_score\n",
    "\n",
    "metrics = pd.DataFrame(index=['accuracy', 'time'],\n",
    "                      columns=['NET1', 'NET2', 'NET3', 'SVML', 'SVMR', 'SVMP', \n",
    "                               'ADA1', 'ADA2', 'ADA3'])"
   ]
  },
  {
   "cell_type": "markdown",
   "metadata": {},
   "source": [
    "### Running the Models"
   ]
  },
  {
   "cell_type": "code",
   "execution_count": 38,
   "metadata": {},
   "outputs": [],
   "source": [
    "# Hyperparameters \n",
    "epochs = 30\n",
    "batch_size = 32\n",
    "learn_rate = 0.01\n",
    "\n",
    "start = time.time()\n",
    "net_model1.run_model(train_X, train_Y, epochs, batch_size, learn_rate)\n",
    "end = time.time()\n",
    "metrics.loc['time', 'NET1'] = end - start \n",
    "accuracy = net_model1.evaluate(test_X, test_Y)[1]\n",
    "metrics.loc['accuracy', 'NET1'] = accuracy\n",
    "\n",
    "start = time.time()\n",
    "net_model2.run_model(train_X, train_Y, epochs, batch_size, learn_rate)\n",
    "end = time.time()\n",
    "metrics.loc['time', 'NET2'] = end - start \n",
    "accuracy = net_model2.evaluate(test_X, test_Y)[1]\n",
    "metrics.loc['accuracy', 'NET2'] = accuracy\n",
    "\n",
    "start = time.time()\n",
    "net_model3.run_model(train_X, train_Y, epochs, batch_size, learn_rate)\n",
    "end = time.time()\n",
    "metrics.loc['time', 'NET3'] = end - start \n",
    "accuracy = net_model3.evaluate(test_X, test_Y)[1]\n",
    "metrics.loc['accuracy', 'NET3'] = accuracy\n",
    "\n",
    "start = time.time()\n",
    "svc_model_lin.fit(train_X, train_Y)\n",
    "end = time.time()\n",
    "metrics.loc['time', 'SVML'] = end - start \n",
    "prediction = svc_model_lin.predict(test_X)\n",
    "metrics.loc['accuracy', 'SVML'] = accuracy_score(y_pred=prediction, y_true=test_Y)\n",
    "\n",
    "start = time.time()\n",
    "svc_model_rbf.fit(train_X, train_Y)\n",
    "end = time.time()\n",
    "metrics.loc['time', 'SVMR'] = end - start \n",
    "prediction = svc_model_rbf.predict(test_X)\n",
    "metrics.loc['accuracy', 'SVMR'] = accuracy_score(y_pred=prediction, y_true=test_Y)\n",
    "\n",
    "start = time.time()\n",
    "svc_model_pol.fit(train_X, train_Y)\n",
    "end = time.time()\n",
    "metrics.loc['time', 'SVMP'] = end - start \n",
    "prediction = svc_model_pol.predict(test_X)\n",
    "metrics.loc['accuracy', 'SVMP'] = accuracy_score(y_pred=prediction, y_true=test_Y)\n",
    "\n",
    "start = time.time()\n",
    "ada_model1.fit(train_X, train_Y)\n",
    "end = time.time()\n",
    "metrics.loc['time', 'ADA1'] = end - start \n",
    "prediction = ada_model1.predict(test_X)\n",
    "metrics.loc['accuracy', 'ADA1'] = accuracy_score(y_pred=prediction, y_true=test_Y)\n",
    "\n",
    "start = time.time()\n",
    "ada_model2.fit(train_X, train_Y)\n",
    "end = time.time()\n",
    "metrics.loc['time', 'ADA2'] = end - start \n",
    "prediction = ada_model2.predict(test_X)\n",
    "metrics.loc['accuracy', 'ADA2'] = accuracy_score(y_pred=prediction, y_true=test_Y)\n",
    "\n",
    "start = time.time()\n",
    "ada_model3.fit(train_X, train_Y)\n",
    "end = time.time()\n",
    "metrics.loc['time', 'ADA3'] = end - start \n",
    "prediction = ada_model3.predict(test_X)\n",
    "metrics.loc['accuracy', 'ADA3'] = accuracy_score(y_pred=prediction, y_true=test_Y)"
   ]
  },
  {
   "cell_type": "markdown",
   "metadata": {},
   "source": [
    "### Comparing Results"
   ]
  },
  {
   "cell_type": "code",
   "execution_count": 39,
   "metadata": {},
   "outputs": [
    {
     "data": {
      "image/png": "[encoded data removed]",
      "text/plain": [
       "<Figure size 720x504 with 1 Axes>"
      ]
     },
     "metadata": {
      "needs_background": "light"
     },
     "output_type": "display_data"
    }
   ],
   "source": [
    "fig, ax = plt.subplots(figsize=(10,7))\n",
    "metrics.plot(kind='barh', ax=ax)\n",
    "ax.grid();"
   ]
  },
  {
   "cell_type": "markdown",
   "metadata": {},
   "source": [
    "### Conclusion\n",
    "When evaluated on a relatively small dataset, feedforward neural networks seem to be outperformed by support vector machines in both execution time and model accuracy. Adaboost on the other hand, seems to be a particularly ineffective algorithm for predicting credit default as it resulted in the highest execution times and no great leap in accuracy. Neural networks had historically had poorer accuracy than SVMs on a wide range of problems prior to the age of massive datasets, so it is worth investigating if a massively higher number of datapoints allows neural networks to surpass SVMs in credit default prediction. SVMs remain far less computationally expensive and are preferable under strict time constraints. "
   ]
  }
 ],
 "metadata": {
  "kernelspec": {
   "display_name": "Python 3",
   "language": "python",
   "name": "python3"
  },
  "language_info": {
   "codemirror_mode": {
    "name": "ipython",
    "version": 3
   },
   "file_extension": ".py",
   "mimetype": "text/x-python",
   "name": "python",
   "nbconvert_exporter": "python",
   "pygments_lexer": "ipython3",
   "version": "3.7.4"
  }
 },
 "nbformat": 4,
 "nbformat_minor": 2
}
